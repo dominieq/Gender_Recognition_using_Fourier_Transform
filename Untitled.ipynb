{
 "cells": [
  {
   "cell_type": "code",
   "execution_count": null,
   "metadata": {},
   "outputs": [
    {
     "name": "stdout",
     "output_type": "stream",
     "text": [
      "2\n",
      "W pliku: M\n",
      "kupa\n"
     ]
    }
   ],
   "source": [
    "from __future__ import division\n",
    "from pylab import *\n",
    "from numpy import *\n",
    "from scipy import *\n",
    "from ipywidgets import *\n",
    "import math as mt\n",
    "import scipy.io.wavfile\n",
    "import sys\n",
    "from scipy.signal import decimate\n",
    "\n",
    "\n",
    "def find_main_signal(signal):\n",
    "    processed_signal = signal\n",
    "    decimated = []\n",
    "    for i in range(2,5):\n",
    "        decimated.append(decimate(signal, i))\n",
    "    for i in range(len(decimated[2])):\n",
    "        processed_signal[i] = processed_signal[i] * decimated[0][i] * decimated[1][i] * decimated[2][i]\n",
    "    for i in range(len(decimated[2]), len(signal)):\n",
    "        processed_signal[i] = 0\n",
    "    return processed_signal\n",
    "\n",
    "def main():\n",
    "    # wav_file = sys.argv[1]\n",
    "    ##############################################################################\n",
    "    for i in range(2,3):\n",
    "        print(i)\n",
    "        k_czy_m = ''\n",
    "        if i < 10:\n",
    "            try:\n",
    "                w, signal = scipy.io.wavfile.read('trainall/00'+repr(i)+'_K.wav')\n",
    "                k_czy_m = 'K'\n",
    "            except:\n",
    "                w, signal = scipy.io.wavfile.read('trainall/00'+repr(i)+'_M.wav')\n",
    "                k_czy_m = 'M'\n",
    "        else:\n",
    "            try:\n",
    "                w, signal = scipy.io.wavfile.read('trainall/0'+repr(i)+'_K.wav')\n",
    "                k_czy_m = 'K'\n",
    "            except:\n",
    "                w, signal = scipy.io.wavfile.read('trainall/0'+repr(i)+'_M.wav')\n",
    "                k_czy_m = 'M'\n",
    "        print('W pliku: '+k_czy_m)\n",
    "        if(len(signal.shape) != 1):\n",
    "            signal = [ mean(x) for x in signal ]\n",
    "            # signal = [ x[0] for x in signal ]\n",
    "            # signal = [ x[1] for x in signal ]\n",
    "        \n",
    "        fft_signal = fft(signal)\n",
    "        fft_signal.shape\n",
    "        main_signal = find_main_signal(fft_signal)\n",
    "\n",
    "        n = len(main_signal)\n",
    "        freqs = range(n)\n",
    "        freqs = [(x / n) * w for x in freqs]\n",
    "\n",
    "        \n",
    "        \n",
    "        stem(freqs, main_signal, '-*')\n",
    "\n",
    "\n",
    "main()"
   ]
  }
 ],
 "metadata": {
  "kernelspec": {
   "display_name": "Python 3",
   "language": "python",
   "name": "python3"
  },
  "language_info": {
   "codemirror_mode": {
    "name": "ipython",
    "version": 3
   },
   "file_extension": ".py",
   "mimetype": "text/x-python",
   "name": "python",
   "nbconvert_exporter": "python",
   "pygments_lexer": "ipython3",
   "version": "3.6.7"
  }
 },
 "nbformat": 4,
 "nbformat_minor": 2
}
